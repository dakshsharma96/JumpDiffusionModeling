{
 "cells": [
  {
   "cell_type": "code",
   "execution_count": 39,
   "metadata": {},
   "outputs": [],
   "source": [
    "# This notebook uses Kernel Density Estimation to analyze, plot, and compare the\n",
    "# distributions of day-over-day returns for various MAANG stocks."
   ]
  },
  {
   "cell_type": "code",
   "execution_count": 40,
   "metadata": {},
   "outputs": [],
   "source": [
    "import pandas as pd\n",
    "import numpy as np\n",
    "\n",
    "#import data\n",
    "df = pd.read_csv('/workspaces/DensityEstimation/data/maamg_prices.csv')"
   ]
  },
  {
   "cell_type": "code",
   "execution_count": 41,
   "metadata": {},
   "outputs": [
    {
     "data": {
      "text/html": [
       "<div>\n",
       "<style scoped>\n",
       "    .dataframe tbody tr th:only-of-type {\n",
       "        vertical-align: middle;\n",
       "    }\n",
       "\n",
       "    .dataframe tbody tr th {\n",
       "        vertical-align: top;\n",
       "    }\n",
       "\n",
       "    .dataframe thead th {\n",
       "        text-align: right;\n",
       "    }\n",
       "</style>\n",
       "<table border=\"1\" class=\"dataframe\">\n",
       "  <thead>\n",
       "    <tr style=\"text-align: right;\">\n",
       "      <th></th>\n",
       "      <th>MSFT_Date</th>\n",
       "      <th>MSFT_Open</th>\n",
       "      <th>MSFT_High</th>\n",
       "      <th>MSFT_Low</th>\n",
       "      <th>MSFT_Close</th>\n",
       "      <th>MSFT_Adj Close</th>\n",
       "      <th>MSFT_Volume</th>\n",
       "      <th>AMZN_Date</th>\n",
       "      <th>AMZN_Open</th>\n",
       "      <th>AMZN_High</th>\n",
       "      <th>...</th>\n",
       "      <th>GOOG_Close</th>\n",
       "      <th>GOOG_Adj Close</th>\n",
       "      <th>GOOG_Volume</th>\n",
       "      <th>AAPL_Date</th>\n",
       "      <th>AAPL_Open</th>\n",
       "      <th>AAPL_High</th>\n",
       "      <th>AAPL_Low</th>\n",
       "      <th>AAPL_Close</th>\n",
       "      <th>AAPL_Adj Close</th>\n",
       "      <th>AAPL_Volume</th>\n",
       "    </tr>\n",
       "  </thead>\n",
       "  <tbody>\n",
       "    <tr>\n",
       "      <th>0</th>\n",
       "      <td>11/9/21</td>\n",
       "      <td>337.109985</td>\n",
       "      <td>338.720001</td>\n",
       "      <td>334.529999</td>\n",
       "      <td>335.950012</td>\n",
       "      <td>333.159790</td>\n",
       "      <td>21307400</td>\n",
       "      <td>11/9/21</td>\n",
       "      <td>175.762497</td>\n",
       "      <td>179.688507</td>\n",
       "      <td>...</td>\n",
       "      <td>149.248505</td>\n",
       "      <td>149.248505</td>\n",
       "      <td>16876000</td>\n",
       "      <td>11/9/21</td>\n",
       "      <td>150.199997</td>\n",
       "      <td>151.429993</td>\n",
       "      <td>150.059998</td>\n",
       "      <td>150.809998</td>\n",
       "      <td>149.939758</td>\n",
       "      <td>56787900</td>\n",
       "    </tr>\n",
       "    <tr>\n",
       "      <th>1</th>\n",
       "      <td>11/10/21</td>\n",
       "      <td>334.570007</td>\n",
       "      <td>334.630005</td>\n",
       "      <td>329.920013</td>\n",
       "      <td>330.799988</td>\n",
       "      <td>328.052551</td>\n",
       "      <td>25500900</td>\n",
       "      <td>11/10/21</td>\n",
       "      <td>178.193497</td>\n",
       "      <td>180.272507</td>\n",
       "      <td>...</td>\n",
       "      <td>146.626007</td>\n",
       "      <td>146.626007</td>\n",
       "      <td>22708000</td>\n",
       "      <td>11/10/21</td>\n",
       "      <td>150.020004</td>\n",
       "      <td>150.130005</td>\n",
       "      <td>147.850006</td>\n",
       "      <td>147.919998</td>\n",
       "      <td>147.066467</td>\n",
       "      <td>65187100</td>\n",
       "    </tr>\n",
       "    <tr>\n",
       "      <th>2</th>\n",
       "      <td>11/11/21</td>\n",
       "      <td>331.250000</td>\n",
       "      <td>333.769989</td>\n",
       "      <td>330.510010</td>\n",
       "      <td>332.429993</td>\n",
       "      <td>329.669006</td>\n",
       "      <td>16849800</td>\n",
       "      <td>11/11/21</td>\n",
       "      <td>175.649994</td>\n",
       "      <td>177.162003</td>\n",
       "      <td>...</td>\n",
       "      <td>146.748001</td>\n",
       "      <td>146.748001</td>\n",
       "      <td>12464000</td>\n",
       "      <td>11/11/21</td>\n",
       "      <td>148.960007</td>\n",
       "      <td>149.429993</td>\n",
       "      <td>147.679993</td>\n",
       "      <td>147.869995</td>\n",
       "      <td>147.016739</td>\n",
       "      <td>41000000</td>\n",
       "    </tr>\n",
       "    <tr>\n",
       "      <th>3</th>\n",
       "      <td>11/12/21</td>\n",
       "      <td>333.920013</td>\n",
       "      <td>337.230011</td>\n",
       "      <td>333.790009</td>\n",
       "      <td>336.720001</td>\n",
       "      <td>333.923370</td>\n",
       "      <td>23831000</td>\n",
       "      <td>11/12/21</td>\n",
       "      <td>174.250000</td>\n",
       "      <td>177.036499</td>\n",
       "      <td>...</td>\n",
       "      <td>149.645493</td>\n",
       "      <td>149.645493</td>\n",
       "      <td>17048000</td>\n",
       "      <td>11/12/21</td>\n",
       "      <td>148.429993</td>\n",
       "      <td>150.399994</td>\n",
       "      <td>147.479996</td>\n",
       "      <td>149.990005</td>\n",
       "      <td>149.124527</td>\n",
       "      <td>63804000</td>\n",
       "    </tr>\n",
       "    <tr>\n",
       "      <th>4</th>\n",
       "      <td>11/15/21</td>\n",
       "      <td>337.540009</td>\n",
       "      <td>337.880005</td>\n",
       "      <td>334.029999</td>\n",
       "      <td>336.070007</td>\n",
       "      <td>333.278778</td>\n",
       "      <td>16723000</td>\n",
       "      <td>11/15/21</td>\n",
       "      <td>176.850006</td>\n",
       "      <td>179.694000</td>\n",
       "      <td>...</td>\n",
       "      <td>149.388000</td>\n",
       "      <td>149.388000</td>\n",
       "      <td>16248000</td>\n",
       "      <td>11/15/21</td>\n",
       "      <td>150.369995</td>\n",
       "      <td>151.880005</td>\n",
       "      <td>149.429993</td>\n",
       "      <td>150.000000</td>\n",
       "      <td>149.134460</td>\n",
       "      <td>59222800</td>\n",
       "    </tr>\n",
       "  </tbody>\n",
       "</table>\n",
       "<p>5 rows × 35 columns</p>\n",
       "</div>"
      ],
      "text/plain": [
       "  MSFT_Date   MSFT_Open   MSFT_High    MSFT_Low  MSFT_Close  MSFT_Adj Close  \\\n",
       "0   11/9/21  337.109985  338.720001  334.529999  335.950012      333.159790   \n",
       "1  11/10/21  334.570007  334.630005  329.920013  330.799988      328.052551   \n",
       "2  11/11/21  331.250000  333.769989  330.510010  332.429993      329.669006   \n",
       "3  11/12/21  333.920013  337.230011  333.790009  336.720001      333.923370   \n",
       "4  11/15/21  337.540009  337.880005  334.029999  336.070007      333.278778   \n",
       "\n",
       "   MSFT_Volume AMZN_Date   AMZN_Open   AMZN_High  ...  GOOG_Close  \\\n",
       "0     21307400   11/9/21  175.762497  179.688507  ...  149.248505   \n",
       "1     25500900  11/10/21  178.193497  180.272507  ...  146.626007   \n",
       "2     16849800  11/11/21  175.649994  177.162003  ...  146.748001   \n",
       "3     23831000  11/12/21  174.250000  177.036499  ...  149.645493   \n",
       "4     16723000  11/15/21  176.850006  179.694000  ...  149.388000   \n",
       "\n",
       "   GOOG_Adj Close  GOOG_Volume  AAPL_Date   AAPL_Open   AAPL_High    AAPL_Low  \\\n",
       "0      149.248505     16876000    11/9/21  150.199997  151.429993  150.059998   \n",
       "1      146.626007     22708000   11/10/21  150.020004  150.130005  147.850006   \n",
       "2      146.748001     12464000   11/11/21  148.960007  149.429993  147.679993   \n",
       "3      149.645493     17048000   11/12/21  148.429993  150.399994  147.479996   \n",
       "4      149.388000     16248000   11/15/21  150.369995  151.880005  149.429993   \n",
       "\n",
       "   AAPL_Close  AAPL_Adj Close  AAPL_Volume  \n",
       "0  150.809998      149.939758     56787900  \n",
       "1  147.919998      147.066467     65187100  \n",
       "2  147.869995      147.016739     41000000  \n",
       "3  149.990005      149.124527     63804000  \n",
       "4  150.000000      149.134460     59222800  \n",
       "\n",
       "[5 rows x 35 columns]"
      ]
     },
     "execution_count": 41,
     "metadata": {},
     "output_type": "execute_result"
    }
   ],
   "source": [
    "# The MAAMG prices dataset contains the opening-, closing-, intra-day low- / high- prices, and trading volume\n",
    "# in distinct columns across all the MAAMG stock tickers.\n",
    "df.head()"
   ]
  },
  {
   "cell_type": "code",
   "execution_count": 42,
   "metadata": {},
   "outputs": [
    {
     "data": {
      "text/plain": [
       "(253, 35)"
      ]
     },
     "execution_count": 42,
     "metadata": {},
     "output_type": "execute_result"
    }
   ],
   "source": [
    "# We will use 235 days worth of data.\n",
    "df.shape"
   ]
  },
  {
   "cell_type": "code",
   "execution_count": 43,
   "metadata": {},
   "outputs": [],
   "source": [
    "# We will explore Google and Meta for now, but this can be replicated across any of the tickers.\n",
    "# We can look at the day-ove-day price changes on a log scale to see how these two models perform.\n",
    "# We use the closing prices for simplicity.\n",
    "goog_log_returns = np.log((df['GOOG_Close'].iloc[1:].values/df['GOOG_Close'].iloc[:-1].values).reshape(-1,1))\n",
    "meta_log_returns = np.log((df['META_Close'].iloc[1:].values/df['META_Close'].iloc[:-1].values).reshape(-1,1))"
   ]
  },
  {
   "cell_type": "code",
   "execution_count": 44,
   "metadata": {},
   "outputs": [
    {
     "data": {
      "text/plain": [
       "array([[-0.01772756],\n",
       "       [ 0.00083166],\n",
       "       [ 0.01955228],\n",
       "       [-0.00172217],\n",
       "       [-0.00209068]])"
      ]
     },
     "execution_count": 44,
     "metadata": {},
     "output_type": "execute_result"
    }
   ],
   "source": [
    "goog_log_returns[:5]"
   ]
  },
  {
   "cell_type": "code",
   "execution_count": 57,
   "metadata": {},
   "outputs": [],
   "source": [
    "# We split the data into training and test sets and use Kernel Density Estimation (KDE)\n",
    "# to fit the distribution of log-returns data.\n",
    "from sklearn.model_selection import train_test_split\n",
    "\n",
    "goog_train, goog_test = train_test_split(goog_log_returns, test_size = .2, random_state=0)\n",
    "meta_train, meta_test = train_test_split(meta_log_returns, test_size = .2, random_state=0)"
   ]
  },
  {
   "cell_type": "code",
   "execution_count": 58,
   "metadata": {},
   "outputs": [],
   "source": [
    "from sklearn.neighbors import KernelDensity\n",
    "from sklearn.model_selection import GridSearchCV\n",
    "\n",
    "def KernelDensityEstimator(log_returns_data, kernel, k_fold, bandwidth_search_range):\n",
    "    \"\"\"\n",
    "    Returns a fitted Kernel Density Estimator (KDE) for the given day-over-day\n",
    "    log returns data using grid search with `k-fold` cross-validation to\n",
    "    determine the optimal bandwith for the KDE estimate.\n",
    "    \n",
    "    The KDE estimator looks an awful lot like a Fourier transform. Indeed it can be\n",
    "    shown that the KDE estimator is equivalent to the Fourier transform of the characteristic function estimator\n",
    "    (i.e. point estimation of E[e^(itX)]) convoluted with some dampening function psi in C^1.\n",
    "    The kernel K corresponds to the Fourier transform of psi. The dampening function allows the Fourier transform\n",
    "    to converge. See https://en.wikipedia.org/wiki/Kernel_density_estimation for details.\n",
    "\n",
    "    Note that cross-validation simplifies bandwidth selection. Other approaches are used in the statistics community\n",
    "    based on loss functions like MISE (mean integrated squared error). See https://en.wikipedia.org/wiki/Kernel_density_estimation#Bandwidth_selection\n",
    "    and https://www.stat.cmu.edu/~larry/=sml/densityestimation.pdf for more on the alternative approaches and\n",
    "    https://jakevdp.github.io/blog/2013/12/01/kernel-density-estimation/#Bandwidth-selection for a comparison of\n",
    "    the GridSearchCV + KernelDensity implementation vs. alternatives like SciPy's gaussian_kde class and Statsmodel's KDEUnivariate.\n",
    "\n",
    "    Args:\n",
    "    - log_returns_data. A numpy ndarray of the log returns data.\n",
    "    - kernel. The kernel used for the KDE estimate.\n",
    "    - k_fold. The integer k to use for k-fold cross-validation.\n",
    "    - bandwidth_search_range. The range to be used for grid search.\n",
    "\n",
    "    \"\"\"\n",
    "    grid = GridSearchCV(KernelDensity(kernel=kernel), param_grid={'bandwidth' : bandwidth_search_range}, cv = k_fold)\n",
    "    return grid.fit(log_returns_data.reshape(-1,1))"
   ]
  },
  {
   "cell_type": "code",
   "execution_count": 59,
   "metadata": {},
   "outputs": [],
   "source": [
    "bandwidth_search_range = np.linspace(0.001,.1,1000)\n",
    "k_fold = 10\n",
    "goog_kde = KernelDensityEstimator(goog_train, 'gaussian', k_fold, bandwidth_search_range)\n",
    "meta_kde = KernelDensityEstimator(meta_train, 'gaussian', k_fold, bandwidth_search_range)"
   ]
  },
  {
   "cell_type": "code",
   "execution_count": 76,
   "metadata": {},
   "outputs": [
    {
     "data": {
      "text/plain": [
       "(KernelDensity(bandwidth=0.012396396396396399),\n",
       " KernelDensity(bandwidth=0.021315315315315317))"
      ]
     },
     "execution_count": 76,
     "metadata": {},
     "output_type": "execute_result"
    }
   ],
   "source": [
    "# The optimal bandwidths for Google and Meta:\n",
    "goog_kde.best_estimator_, meta_kde.best_estimator_"
   ]
  },
  {
   "cell_type": "code",
   "execution_count": 74,
   "metadata": {},
   "outputs": [],
   "source": [
    "# The range of log-returns we want to plot.\n",
    "log_returns_range = np.linspace(-.2, .2, 10000).reshape(-1,1)\n",
    "\n",
    "def GetDensities(kde_estimator, data):\n",
    "    \"\"\"\n",
    "    Returns the likelihood, i.e. density, of each input in the given `data`\n",
    "    under the given `kde_estimator`.\n",
    "    \"\"\"\n",
    "    log_densities = kde_estimator.score_samples(data)\n",
    "    densities = np.exp(log_densities)\n",
    "    return densities \n",
    "\n",
    "goog_densities = GetDensities(goog_kde, log_returns_range)\n",
    "meta_densities = GetDensities(meta_kde, log_returns_range)"
   ]
  },
  {
   "cell_type": "code",
   "execution_count": 75,
   "metadata": {},
   "outputs": [
    {
     "name": "stderr",
     "output_type": "stream",
     "text": [
      "/tmp/ipykernel_32171/1588474880.py:13: FutureWarning: Unlike other reduction functions (e.g. `skew`, `kurtosis`), the default behavior of `mode` typically preserves the axis it acts along. In SciPy 1.11.0, this behavior will change: the default value of `keepdims` will become False, the `axis` over which the statistic is taken will be eliminated, and the value None will no longer be accepted. Set `keepdims` to True or False to avoid this warning.\n",
      "  sumstats = np.array([len(data), np.min(data), np.max(data), np.mean(data), np.median(data), float(scipy.stats.mode(data)[0]), np.std(data), float(scipy.stats.skew(data)[0]), float(scipy.stats.kurtosis(data)[0])])\n"
     ]
    }
   ],
   "source": [
    "import scipy.stats\n",
    "\n",
    "def SummaryStatistics(data):\n",
    "    \"\"\"\n",
    "    Returns a NumPy darray of some summary statistics for the given data.\n",
    "    Specifically, it returns the length, minimum, maximum, mean, median, mode, stddev, skew, and kurtosis.\n",
    "\n",
    "    \n",
    "    Args:\n",
    "    - data: A Pandas dataframe.\n",
    "    \"\"\"\n",
    "\n",
    "    sumstats = np.array([len(data), np.min(data), np.max(data), np.mean(data), np.median(data), float(scipy.stats.mode(data)[0]), np.std(data), float(scipy.stats.skew(data)[0]), float(scipy.stats.kurtosis(data)[0])])\n",
    "    return sumstats\n",
    "\n",
    "summary_statistics = pd.DataFrame(index = [\"N\", \"MIN\", \"MAX\", \"MEAN\", \"MEDIAN\", \"MODE\", \"STD DEV\", \"SKEW\", \"KURT\"], data = {\"GOOG\": SummaryStatistics(goog_train), \"META\": SummaryStatistics(meta_train)})"
   ]
  },
  {
   "cell_type": "code",
   "execution_count": 62,
   "metadata": {},
   "outputs": [
    {
     "data": {
      "text/html": [
       "<div>\n",
       "<style scoped>\n",
       "    .dataframe tbody tr th:only-of-type {\n",
       "        vertical-align: middle;\n",
       "    }\n",
       "\n",
       "    .dataframe tbody tr th {\n",
       "        vertical-align: top;\n",
       "    }\n",
       "\n",
       "    .dataframe thead th {\n",
       "        text-align: right;\n",
       "    }\n",
       "</style>\n",
       "<table border=\"1\" class=\"dataframe\">\n",
       "  <thead>\n",
       "    <tr style=\"text-align: right;\">\n",
       "      <th></th>\n",
       "      <th>GOOG</th>\n",
       "      <th>META</th>\n",
       "    </tr>\n",
       "  </thead>\n",
       "  <tbody>\n",
       "    <tr>\n",
       "      <th>N</th>\n",
       "      <td>201.000000</td>\n",
       "      <td>201.000000</td>\n",
       "    </tr>\n",
       "    <tr>\n",
       "      <th>MIN</th>\n",
       "      <td>-0.101313</td>\n",
       "      <td>-0.306391</td>\n",
       "    </tr>\n",
       "    <tr>\n",
       "      <th>MAX</th>\n",
       "      <td>0.074541</td>\n",
       "      <td>0.162064</td>\n",
       "    </tr>\n",
       "    <tr>\n",
       "      <th>MEAN</th>\n",
       "      <td>-0.001680</td>\n",
       "      <td>-0.004391</td>\n",
       "    </tr>\n",
       "    <tr>\n",
       "      <th>MEDIAN</th>\n",
       "      <td>-0.000745</td>\n",
       "      <td>-0.002245</td>\n",
       "    </tr>\n",
       "    <tr>\n",
       "      <th>MODE</th>\n",
       "      <td>-0.101313</td>\n",
       "      <td>-0.306391</td>\n",
       "    </tr>\n",
       "    <tr>\n",
       "      <th>STD DEV</th>\n",
       "      <td>0.023949</td>\n",
       "      <td>0.042833</td>\n",
       "    </tr>\n",
       "    <tr>\n",
       "      <th>SKEW</th>\n",
       "      <td>-0.156063</td>\n",
       "      <td>-2.788780</td>\n",
       "    </tr>\n",
       "    <tr>\n",
       "      <th>KURT</th>\n",
       "      <td>1.409300</td>\n",
       "      <td>19.906502</td>\n",
       "    </tr>\n",
       "  </tbody>\n",
       "</table>\n",
       "</div>"
      ],
      "text/plain": [
       "               GOOG        META\n",
       "N        201.000000  201.000000\n",
       "MIN       -0.101313   -0.306391\n",
       "MAX        0.074541    0.162064\n",
       "MEAN      -0.001680   -0.004391\n",
       "MEDIAN    -0.000745   -0.002245\n",
       "MODE      -0.101313   -0.306391\n",
       "STD DEV    0.023949    0.042833\n",
       "SKEW      -0.156063   -2.788780\n",
       "KURT       1.409300   19.906502"
      ]
     },
     "execution_count": 62,
     "metadata": {},
     "output_type": "execute_result"
    }
   ],
   "source": [
    "summary_statistics"
   ]
  },
  {
   "cell_type": "code",
   "execution_count": 63,
   "metadata": {},
   "outputs": [],
   "source": [
    "import matplotlib.pyplot as plt\n",
    "def PlotKernelDensityEstimates(ticker, input_range, densities):\n",
    "    \"\"\"\n",
    "    Plots the given densities \n",
    "    \"\"\"\n",
    "    plt.plot(log_returns_range, densities, color = 'black')\n",
    "    plt.title('%s daily log returns between 11/10/21 - 11/09/22' % ticker)\n",
    "    plt.xlabel(\"Log return\")\n",
    "    plt.ylabel(\"Density\")\n",
    "    plt.legend()"
   ]
  },
  {
   "cell_type": "code",
   "execution_count": 64,
   "metadata": {},
   "outputs": [
    {
     "name": "stderr",
     "output_type": "stream",
     "text": [
      "No artists with labels found to put in legend.  Note that artists whose label start with an underscore are ignored when legend() is called with no argument.\n"
     ]
    },
    {
     "data": {
      "image/png": "[encoded data removed]",
      "text/plain": [
       "<Figure size 640x480 with 1 Axes>"
      ]
     },
     "metadata": {},
     "output_type": "display_data"
    }
   ],
   "source": [
    "log_returns_range = np.linspace(-.2, .2, 10000).reshape(-1,1)\n",
    "PlotKernelDensityEstimates(\"GOOG\", log_returns_range, goog_densities)"
   ]
  },
  {
   "cell_type": "code",
   "execution_count": 65,
   "metadata": {},
   "outputs": [],
   "source": [
    "# Indeed the log returns data is quite normal and the KDE estimates\n",
    "# reflect many of the properties shown in the summary statistics.\n",
    "# For example, Meta has higher volatility and kurtosis."
   ]
  },
  {
   "cell_type": "code",
   "execution_count": 66,
   "metadata": {},
   "outputs": [
    {
     "name": "stderr",
     "output_type": "stream",
     "text": [
      "No artists with labels found to put in legend.  Note that artists whose label start with an underscore are ignored when legend() is called with no argument.\n"
     ]
    },
    {
     "data": {
      "image/png": "[encoded data removed]",
      "text/plain": [
       "<Figure size 640x480 with 1 Axes>"
      ]
     },
     "metadata": {},
     "output_type": "display_data"
    }
   ],
   "source": [
    "PlotKernelDensityEstimates(\"META\", log_returns_range, meta_densities)"
   ]
  },
  {
   "cell_type": "code",
   "execution_count": 77,
   "metadata": {},
   "outputs": [
    {
     "data": {
      "text/plain": [
       "Text(0, 0.5, 'Density')"
      ]
     },
     "execution_count": 77,
     "metadata": {},
     "output_type": "execute_result"
    },
    {
     "data": {
      "image/png": "[encoded data removed]",
      "text/plain": [
       "<Figure size 640x480 with 1 Axes>"
      ]
     },
     "metadata": {},
     "output_type": "display_data"
    }
   ],
   "source": [
    "# We should compare the KDE plots with the actual test data.\n",
    "flattened_goog_test = goog_test.flatten()\n",
    "plt.hist(flattened_goog_test, bins=10)\n",
    "plt.plot(log_returns_range, goog_densities)\n",
    "plt.title('Fitted returns vs. test returns')\n",
    "plt.xlabel(\"Log return\")\n",
    "plt.ylabel(\"Density\")"
   ]
  },
  {
   "cell_type": "code",
   "execution_count": 78,
   "metadata": {},
   "outputs": [],
   "source": [
    "# The estimate performs reasonably well, although the fitted mean is\n",
    "# slightly right of the test mean."
   ]
  }
 ],
 "metadata": {
  "kernelspec": {
   "display_name": "Python 3",
   "language": "python",
   "name": "python3"
  },
  "language_info": {
   "codemirror_mode": {
    "name": "ipython",
    "version": 3
   },
   "file_extension": ".py",
   "mimetype": "text/x-python",
   "name": "python",
   "nbconvert_exporter": "python",
   "pygments_lexer": "ipython3",
   "version": "3.10.4"
  },
  "orig_nbformat": 4,
  "vscode": {
   "interpreter": {
    "hash": "3ad933181bd8a04b432d3370b9dc3b0662ad032c4dfaa4e4f1596c548f763858"
   }
  }
 },
 "nbformat": 4,
 "nbformat_minor": 2
}
