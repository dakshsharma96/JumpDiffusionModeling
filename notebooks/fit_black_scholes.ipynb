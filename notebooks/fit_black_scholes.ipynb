{
 "cells": [
  {
   "cell_type": "code",
   "execution_count": 1,
   "metadata": {},
   "outputs": [],
   "source": [
    "# This notebook analyzes MAANG stocks from the perspective of the typical\n",
    "# Black-Scholes model using day-over-day returns.\n",
    "\n",
    "# Using daily returns has the benefit of potentially reducing noise associated\n",
    "# with seasonality etc, but more likely the lookback window used by market makers\n",
    "# for example will be much shorter, say 30 days. One downside is that the\n",
    "# approximation associated with Geometric Brownian Motion is less accurate.\n",
    "# Intra-day (high-frequency) returns may be preferred for this reason in practice."
   ]
  },
  {
   "cell_type": "code",
   "execution_count": 2,
   "metadata": {},
   "outputs": [],
   "source": [
    "# Recall the Stochastic differential equation describing Geometric Brownian Motion\n",
    "# dS = mu*S*dt + sigma*S*dW where W is a normalized Wiener process. This results\n",
    "# in the S(t) = S_0 * exp((mu - sigma^2 / 2) * t + sigma * W(t)). Then we can easily\n",
    "# use maximum likelihood estimation to estimate mu and sigma. It's easy to check:\n",
    "\n",
    "# sum(mu_hat * t_i) ...\n",
    "\n",
    "# TODO(dakshs): What is the Black-Scholes MLE and why?\n",
    "# Can determine sigma, but technically W_t not observed. A ver.\n",
    "# Oh wait lol W_t has a damn sigma dependence."
   ]
  },
  {
   "cell_type": "code",
   "execution_count": null,
   "metadata": {},
   "outputs": [],
   "source": []
  }
 ],
 "metadata": {
  "kernelspec": {
   "display_name": "Python 3",
   "language": "python",
   "name": "python3"
  },
  "language_info": {
   "codemirror_mode": {
    "name": "ipython",
    "version": 3
   },
   "file_extension": ".py",
   "mimetype": "text/x-python",
   "name": "python",
   "nbconvert_exporter": "python",
   "pygments_lexer": "ipython3",
   "version": "3.10.4"
  },
  "orig_nbformat": 4,
  "vscode": {
   "interpreter": {
    "hash": "3ad933181bd8a04b432d3370b9dc3b0662ad032c4dfaa4e4f1596c548f763858"
   }
  }
 },
 "nbformat": 4,
 "nbformat_minor": 2
}
