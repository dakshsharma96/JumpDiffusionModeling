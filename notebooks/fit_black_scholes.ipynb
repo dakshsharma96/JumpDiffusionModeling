{
 "cells": [
  {
   "cell_type": "code",
   "execution_count": 2,
   "metadata": {},
   "outputs": [],
   "source": [
    "# This notebook analyzes MAANG stocks from the perspective of the typical\n",
    "# Black-Scholes model using day-over-day returns.\n",
    "\n",
    "# Using daily returns has the benefit of potentially reducing noise associated\n",
    "# with seasonality etc, but more likely the lookback window used by market makers\n",
    "# for example will be much shorter, say 30 days. One downside is that the\n",
    "# approximation associated with Geometric Brownian Motion is less accurate.\n",
    "# Intra-day (high-frequency) returns may be preferred for this reason in practice."
   ]
  },
  {
   "cell_type": "code",
   "execution_count": 3,
   "metadata": {},
   "outputs": [],
   "source": [
    "# Recall the Stochastic differential equation describing Geometric Brownian Motion\n",
    "# dS = mu*S*dt + sigma*S*dW where W is a normalized Wiener process. This results\n",
    "# in the S(t) = S_0 * exp((mu - sigma^2 / 2) * t + sigma * W(t)). Then we can easily\n",
    "# use maximum likelihood estimation to estimate mu and sigma. It's easy to check that\n",
    "# log(S_t) - log(S_0) ~ N((mu - sigma^2/2)*t, sigma^2*t).\n",
    "# Then the likelihood of mu, sigma for an observed (S_{t_i}) is sum_i(log(P(S_{t_i} | S_0; mu, sigma)))\n",
    "# = sum(e^())... this is kind of nasty. But it *can* be done, I just need more paper.\n",
    "# Note 2 levels of exponential in some sense so exp will stay.\n",
    "# = sum(1/sigma_prime*sqrt(2*pi)*e^(-1/2*(log(S_t/S_0) - (mu_prime - sigma_prime^2 / 2)t)^2 / (2*sigma_prime^2))\n",
    "# where sigma_prime = sigma^2*t, mu_prime = (mu - sigma^2/2)*t.\n",
    "# May need to take another log, but that's ok maximizing strictly increasing jawn is same as log^n(foo).\n",
    "# Note: W_t has a sigma dependence so this computation will get a bit hairy. Discussed more below."
   ]
  },
  {
   "cell_type": "code",
   "execution_count": 4,
   "metadata": {},
   "outputs": [],
   "source": [
    "import pandas as pd\n",
    "import numpy as np\n",
    "\n",
    "# Porting import logic from plot_log_returns.ipynb.\n",
    "df = pd.read_csv('/workspaces/JumpDiffusionModeling/data/maamg_prices.csv')"
   ]
  },
  {
   "cell_type": "code",
   "execution_count": 5,
   "metadata": {},
   "outputs": [
    {
     "data": {
      "text/html": [
       "<div>\n",
       "<style scoped>\n",
       "    .dataframe tbody tr th:only-of-type {\n",
       "        vertical-align: middle;\n",
       "    }\n",
       "\n",
       "    .dataframe tbody tr th {\n",
       "        vertical-align: top;\n",
       "    }\n",
       "\n",
       "    .dataframe thead th {\n",
       "        text-align: right;\n",
       "    }\n",
       "</style>\n",
       "<table border=\"1\" class=\"dataframe\">\n",
       "  <thead>\n",
       "    <tr style=\"text-align: right;\">\n",
       "      <th></th>\n",
       "      <th>MSFT_Date</th>\n",
       "      <th>MSFT_Open</th>\n",
       "      <th>MSFT_High</th>\n",
       "      <th>MSFT_Low</th>\n",
       "      <th>MSFT_Close</th>\n",
       "      <th>MSFT_Adj Close</th>\n",
       "      <th>MSFT_Volume</th>\n",
       "      <th>AMZN_Date</th>\n",
       "      <th>AMZN_Open</th>\n",
       "      <th>AMZN_High</th>\n",
       "      <th>...</th>\n",
       "      <th>GOOG_Close</th>\n",
       "      <th>GOOG_Adj Close</th>\n",
       "      <th>GOOG_Volume</th>\n",
       "      <th>AAPL_Date</th>\n",
       "      <th>AAPL_Open</th>\n",
       "      <th>AAPL_High</th>\n",
       "      <th>AAPL_Low</th>\n",
       "      <th>AAPL_Close</th>\n",
       "      <th>AAPL_Adj Close</th>\n",
       "      <th>AAPL_Volume</th>\n",
       "    </tr>\n",
       "  </thead>\n",
       "  <tbody>\n",
       "    <tr>\n",
       "      <th>0</th>\n",
       "      <td>11/9/21</td>\n",
       "      <td>337.109985</td>\n",
       "      <td>338.720001</td>\n",
       "      <td>334.529999</td>\n",
       "      <td>335.950012</td>\n",
       "      <td>333.159790</td>\n",
       "      <td>21307400</td>\n",
       "      <td>11/9/21</td>\n",
       "      <td>175.762497</td>\n",
       "      <td>179.688507</td>\n",
       "      <td>...</td>\n",
       "      <td>149.248505</td>\n",
       "      <td>149.248505</td>\n",
       "      <td>16876000</td>\n",
       "      <td>11/9/21</td>\n",
       "      <td>150.199997</td>\n",
       "      <td>151.429993</td>\n",
       "      <td>150.059998</td>\n",
       "      <td>150.809998</td>\n",
       "      <td>149.939758</td>\n",
       "      <td>56787900</td>\n",
       "    </tr>\n",
       "    <tr>\n",
       "      <th>1</th>\n",
       "      <td>11/10/21</td>\n",
       "      <td>334.570007</td>\n",
       "      <td>334.630005</td>\n",
       "      <td>329.920013</td>\n",
       "      <td>330.799988</td>\n",
       "      <td>328.052551</td>\n",
       "      <td>25500900</td>\n",
       "      <td>11/10/21</td>\n",
       "      <td>178.193497</td>\n",
       "      <td>180.272507</td>\n",
       "      <td>...</td>\n",
       "      <td>146.626007</td>\n",
       "      <td>146.626007</td>\n",
       "      <td>22708000</td>\n",
       "      <td>11/10/21</td>\n",
       "      <td>150.020004</td>\n",
       "      <td>150.130005</td>\n",
       "      <td>147.850006</td>\n",
       "      <td>147.919998</td>\n",
       "      <td>147.066467</td>\n",
       "      <td>65187100</td>\n",
       "    </tr>\n",
       "    <tr>\n",
       "      <th>2</th>\n",
       "      <td>11/11/21</td>\n",
       "      <td>331.250000</td>\n",
       "      <td>333.769989</td>\n",
       "      <td>330.510010</td>\n",
       "      <td>332.429993</td>\n",
       "      <td>329.669006</td>\n",
       "      <td>16849800</td>\n",
       "      <td>11/11/21</td>\n",
       "      <td>175.649994</td>\n",
       "      <td>177.162003</td>\n",
       "      <td>...</td>\n",
       "      <td>146.748001</td>\n",
       "      <td>146.748001</td>\n",
       "      <td>12464000</td>\n",
       "      <td>11/11/21</td>\n",
       "      <td>148.960007</td>\n",
       "      <td>149.429993</td>\n",
       "      <td>147.679993</td>\n",
       "      <td>147.869995</td>\n",
       "      <td>147.016739</td>\n",
       "      <td>41000000</td>\n",
       "    </tr>\n",
       "    <tr>\n",
       "      <th>3</th>\n",
       "      <td>11/12/21</td>\n",
       "      <td>333.920013</td>\n",
       "      <td>337.230011</td>\n",
       "      <td>333.790009</td>\n",
       "      <td>336.720001</td>\n",
       "      <td>333.923370</td>\n",
       "      <td>23831000</td>\n",
       "      <td>11/12/21</td>\n",
       "      <td>174.250000</td>\n",
       "      <td>177.036499</td>\n",
       "      <td>...</td>\n",
       "      <td>149.645493</td>\n",
       "      <td>149.645493</td>\n",
       "      <td>17048000</td>\n",
       "      <td>11/12/21</td>\n",
       "      <td>148.429993</td>\n",
       "      <td>150.399994</td>\n",
       "      <td>147.479996</td>\n",
       "      <td>149.990005</td>\n",
       "      <td>149.124527</td>\n",
       "      <td>63804000</td>\n",
       "    </tr>\n",
       "    <tr>\n",
       "      <th>4</th>\n",
       "      <td>11/15/21</td>\n",
       "      <td>337.540009</td>\n",
       "      <td>337.880005</td>\n",
       "      <td>334.029999</td>\n",
       "      <td>336.070007</td>\n",
       "      <td>333.278778</td>\n",
       "      <td>16723000</td>\n",
       "      <td>11/15/21</td>\n",
       "      <td>176.850006</td>\n",
       "      <td>179.694000</td>\n",
       "      <td>...</td>\n",
       "      <td>149.388000</td>\n",
       "      <td>149.388000</td>\n",
       "      <td>16248000</td>\n",
       "      <td>11/15/21</td>\n",
       "      <td>150.369995</td>\n",
       "      <td>151.880005</td>\n",
       "      <td>149.429993</td>\n",
       "      <td>150.000000</td>\n",
       "      <td>149.134460</td>\n",
       "      <td>59222800</td>\n",
       "    </tr>\n",
       "  </tbody>\n",
       "</table>\n",
       "<p>5 rows × 35 columns</p>\n",
       "</div>"
      ],
      "text/plain": [
       "  MSFT_Date   MSFT_Open   MSFT_High    MSFT_Low  MSFT_Close  MSFT_Adj Close  \\\n",
       "0   11/9/21  337.109985  338.720001  334.529999  335.950012      333.159790   \n",
       "1  11/10/21  334.570007  334.630005  329.920013  330.799988      328.052551   \n",
       "2  11/11/21  331.250000  333.769989  330.510010  332.429993      329.669006   \n",
       "3  11/12/21  333.920013  337.230011  333.790009  336.720001      333.923370   \n",
       "4  11/15/21  337.540009  337.880005  334.029999  336.070007      333.278778   \n",
       "\n",
       "   MSFT_Volume AMZN_Date   AMZN_Open   AMZN_High  ...  GOOG_Close  \\\n",
       "0     21307400   11/9/21  175.762497  179.688507  ...  149.248505   \n",
       "1     25500900  11/10/21  178.193497  180.272507  ...  146.626007   \n",
       "2     16849800  11/11/21  175.649994  177.162003  ...  146.748001   \n",
       "3     23831000  11/12/21  174.250000  177.036499  ...  149.645493   \n",
       "4     16723000  11/15/21  176.850006  179.694000  ...  149.388000   \n",
       "\n",
       "   GOOG_Adj Close  GOOG_Volume  AAPL_Date   AAPL_Open   AAPL_High    AAPL_Low  \\\n",
       "0      149.248505     16876000    11/9/21  150.199997  151.429993  150.059998   \n",
       "1      146.626007     22708000   11/10/21  150.020004  150.130005  147.850006   \n",
       "2      146.748001     12464000   11/11/21  148.960007  149.429993  147.679993   \n",
       "3      149.645493     17048000   11/12/21  148.429993  150.399994  147.479996   \n",
       "4      149.388000     16248000   11/15/21  150.369995  151.880005  149.429993   \n",
       "\n",
       "   AAPL_Close  AAPL_Adj Close  AAPL_Volume  \n",
       "0  150.809998      149.939758     56787900  \n",
       "1  147.919998      147.066467     65187100  \n",
       "2  147.869995      147.016739     41000000  \n",
       "3  149.990005      149.124527     63804000  \n",
       "4  150.000000      149.134460     59222800  \n",
       "\n",
       "[5 rows x 35 columns]"
      ]
     },
     "execution_count": 5,
     "metadata": {},
     "output_type": "execute_result"
    }
   ],
   "source": [
    "df.head()"
   ]
  },
  {
   "cell_type": "code",
   "execution_count": 6,
   "metadata": {},
   "outputs": [],
   "source": [
    "# For simplicity, we use the closing data.\n",
    "goog_log_returns = np.log((df['GOOG_Close'].iloc[1:].values/df['GOOG_Close'].iloc[:-1].values).reshape(-1,1))\n",
    "\n",
    "from sklearn.model_selection import train_test_split\n",
    "\n",
    "goog_train, goog_test = train_test_split(goog_log_returns, test_size = .2, random_state=0)"
   ]
  },
  {
   "cell_type": "code",
   "execution_count": 7,
   "metadata": {},
   "outputs": [
    {
     "data": {
      "text/plain": [
       "(252, 1)"
      ]
     },
     "execution_count": 7,
     "metadata": {},
     "output_type": "execute_result"
    }
   ],
   "source": [
    "goog_log_returns.shape"
   ]
  },
  {
   "cell_type": "code",
   "execution_count": 9,
   "metadata": {},
   "outputs": [
    {
     "data": {
      "text/plain": [
       "(-0.0013933990552709502, 0.02394923178260807)"
      ]
     },
     "execution_count": 9,
     "metadata": {},
     "output_type": "execute_result"
    }
   ],
   "source": [
    "# The derivation of Black-Scholes MLE is somewhat messsy what was mentioned above.\n",
    "# A detailed summary is presented here https://core.ac.uk/download/pdf/10653545.pdf.\n",
    "# See https://espace.curtin.edu.au/bitstream/handle/20.500.11937/37460/152629_28490_Misiran_Lu_Teo_%20ICOCO.pdf?sequence=2 for an expanded\n",
    "# reference that discusses an expanded model that uses self-similarity to capture some level of memory dependency\n",
    "# that is done with the traditional GBM Black-Scholes model.\n",
    "#\n",
    "# Note: we are skimming over the fact that we are looking at discrete observations related to a continuous time process.\n",
    "# It can be shown that the discrete MLE computation is still a consistent estimator.\n",
    "\n",
    "# Taking delta_t as the time step (in days), let the adjusted mean drift and variance be equal to\n",
    "# m_hat = (mu_hat - 1/2 * sigma_hat^2) * delta_t and v_hat = sigma_hat^2 * delta_t, respectively, and x(t) = log(S_t) - log(S_{t-1}).\n",
    "# The messy computation mentioned above yields m_hat = 1/n * sum(x(t))) and v_hat = 1/n * sum((x(t) - m_hat)^2). Let's compute these.\n",
    "\n",
    "mu_adj_hat = np.mean(goog_train)\n",
    "var_hat = np.mean(np.power(goog_train - mu_adj_hat,2))\n",
    "sigma_hat = np.sqrt(var_hat)\n",
    "mu_hat = mu_adj_hat + 1/2 * np.power(sigma_hat, 2)\n",
    "\n",
    "# The estimated mu and sigma values.\n",
    "mu_hat, sigma_hat"
   ]
  },
  {
   "cell_type": "code",
   "execution_count": 21,
   "metadata": {},
   "outputs": [
    {
     "name": "stdout",
     "output_type": "stream",
     "text": [
      "[172.11733361 171.82838799 171.53992744 171.25195115 170.96445831]\n",
      "[172.005136   171.71637873 171.42810622 171.14031766 170.85301222]\n",
      "[172.2204465  171.93132777 171.64269441 171.3545456  171.06688053]\n",
      "[172.13005496 171.84108799 171.55260612 171.26460855 170.97709445]\n",
      "[172.04510848 171.75628411 171.46794461 171.18008916 170.89271696]\n",
      "[172.22196996 171.93284868 171.64421276 171.3560614  171.06839379]\n",
      "[172.2567783  171.96759859 171.67890433 171.39069474 171.10296898]\n",
      "[172.26989413 171.98069239 171.69197616 171.40374462 171.11599695]\n",
      "[172.04671634 171.75788927 171.46954707 171.18168894 170.89431405]\n",
      "[172.04743072 171.75860245 171.47025906 171.18239973 170.89502365]\n"
     ]
    },
    {
     "data": {
      "image/png": "[encoded data removed]",
      "text/plain": [
       "<Figure size 640x480 with 1 Axes>"
      ]
     },
     "metadata": {},
     "output_type": "display_data"
    }
   ],
   "source": [
    "from matplotlib import pyplot\n",
    "\n",
    "for _ in range(10):\n",
    "    s_simulated = df['GOOG_Close'][0] * np.exp((mu_hat - 1/2*np.power(sigma_hat,2)) * np.cumsum(np.ones(251)) + np.power(sigma_hat,2) * np.cumsum(np.random.normal(251)))\n",
    "    pyplot.plot(s_simulated)\n",
    "    print(s_simulated[:5])\n",
    "\n",
    "pyplot.show()"
   ]
  },
  {
   "cell_type": "code",
   "execution_count": null,
   "metadata": {},
   "outputs": [],
   "source": [
    "np.cumsum(goog_train)"
   ]
  },
  {
   "cell_type": "code",
   "execution_count": 12,
   "metadata": {},
   "outputs": [
    {
     "data": {
      "text/plain": [
       "[<matplotlib.lines.Line2D at 0x7f84bdf34ca0>]"
      ]
     },
     "execution_count": 12,
     "metadata": {},
     "output_type": "execute_result"
    },
    {
     "data": {
      "image/png": "[encoded data removed]",
      "text/plain": [
       "<Figure size 640x480 with 1 Axes>"
      ]
     },
     "metadata": {},
     "output_type": "display_data"
    }
   ],
   "source": [
    "pyplot.plot(df['GOOG_Close'])"
   ]
  }
 ],
 "metadata": {
  "kernelspec": {
   "display_name": "Python 3",
   "language": "python",
   "name": "python3"
  },
  "language_info": {
   "codemirror_mode": {
    "name": "ipython",
    "version": 3
   },
   "file_extension": ".py",
   "mimetype": "text/x-python",
   "name": "python",
   "nbconvert_exporter": "python",
   "pygments_lexer": "ipython3",
   "version": "3.10.4"
  },
  "orig_nbformat": 4,
  "vscode": {
   "interpreter": {
    "hash": "3ad933181bd8a04b432d3370b9dc3b0662ad032c4dfaa4e4f1596c548f763858"
   }
  }
 },
 "nbformat": 4,
 "nbformat_minor": 2
}
