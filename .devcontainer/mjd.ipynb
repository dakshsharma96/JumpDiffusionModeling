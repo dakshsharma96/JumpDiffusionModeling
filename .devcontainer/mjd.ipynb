import numpy as np 
import math
import matplotlib.pyplot as plt


# MJD simulates a jump diffusion process for a security S with initial price S0 over a time time with simulation_per_period # of simulations. I omit the -lambda E[J-1] where J is the size of a jump because I'm not fully clear on its relevance. 
def mjd(S0, mu_d, sig_d, lam, mu_j, sig_j, time, simulations_per_period): 
    dt = time/simulations_per_period
    S = [0]*simulation_per_period
    S[0] = S0
    for i in range(1,364+1):
        S[i] = S[i-1]*math.exp((mu_d-sig_d**2/2)*dt + sig_d*np.random.normal(0,dt))*np.prod(np.random.normal(mu_j,sig_j, size = np.random.poisson(lam*dt)))
    return(S)

plt.plot(mjd(200, .10, .2, 12, 1, .02, 1, 250))
